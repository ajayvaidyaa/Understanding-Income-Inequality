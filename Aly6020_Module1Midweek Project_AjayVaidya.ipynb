{
 "cells": [
  {
   "cell_type": "markdown",
   "id": "bf4f9eb5",
   "metadata": {},
   "source": [
    "Interpret a nearest neighbors algorithm that classifies Iris’s (flower) using the following dataset. This is a common use case for nearest neighbors. You use multiple attributes of the flowers to decide which type of Iris they are. Analyze the data set, and answer the following.\n",
    "What was the overall accuracy of the model?\n",
    "What was the accuracy of each type of iris?\n",
    "Would you classify the model as a good model or not?"
   ]
  },
  {
   "cell_type": "code",
   "execution_count": 1,
   "id": "baa68752",
   "metadata": {},
   "outputs": [],
   "source": [
    "import numpy as np\n",
    "from sklearn import datasets\n",
    "import matplotlib.pyplot as plt\n",
    "from mpl_toolkits.mplot3d import Axes3D\n",
    "from collections import Counter\n",
    "\n",
    "\n",
    "iris = datasets.load_iris()\n",
    "iris_data = iris.data #separate training variables\n",
    "iris_labels = iris.target #what we are predicting"
   ]
  },
  {
   "cell_type": "code",
   "execution_count": 2,
   "id": "86648aec",
   "metadata": {},
   "outputs": [],
   "source": [
    "#data particitioning\n",
    "#spliting the data into training and test set\n",
    "np.random.seed(42) #randomise data\n",
    "indices = np.random.permutation(len(iris_data))\n",
    "n_training_samples=20\n",
    "trainset_data = iris_data[indices[:-n_training_samples]]\n",
    "trainset_labels = iris_labels[indices[:-n_training_samples]]\n",
    "testset_data = iris_data[indices[-n_training_samples:]]\n",
    "testset_labels = iris_labels[indices[-n_training_samples:]]"
   ]
  },
  {
   "cell_type": "code",
   "execution_count": 3,
   "id": "cb2da705",
   "metadata": {
    "scrolled": true
   },
   "outputs": [
    {
     "data": {
      "image/png": "[encoded data removed]",
      "text/plain": [
       "<Figure size 432x288 with 1 Axes>"
      ]
     },
     "metadata": {
      "needs_background": "light"
     },
     "output_type": "display_data"
    }
   ],
   "source": [
    "#Classify different flowers \n",
    "X = []\n",
    "for iclass in range (3):\n",
    "    X.append([[],[],[]])\n",
    "    for i in range(len(trainset_data)):\n",
    "        if trainset_labels[i] ==iclass:\n",
    "            X[iclass][0].append(trainset_data[i][0])\n",
    "            X[iclass][1].append(trainset_data[i][0])\n",
    "            X[iclass][2].append(sum(trainset_data[i][2:]))\n",
    "            \n",
    "colors = (\"r\", \"g\", \"y\")\n",
    "\n",
    "fig = plt.figure()\n",
    "ax = fig.add_subplot(111,projection='3d')\n",
    "\n",
    "for iclass in range (3):\n",
    "    ax.scatter(X[iclass][0],X[iclass][1], X[iclass][2], c=colors[iclass])\n",
    "    \n",
    "plt.show()\n",
    "\n",
    "#color represents the species\n",
    "#we can see that we have three seperate cluster and partially how they differentiate from each other "
   ]
  },
  {
   "cell_type": "code",
   "execution_count": 4,
   "id": "856a020f",
   "metadata": {},
   "outputs": [],
   "source": [
    "#function definition that returns distance between two points \n",
    "def distance(instance1, instance2):\n",
    "\n",
    "    instance1= np.array(instance1)\n",
    "    instance2= np.array(instance2)\n",
    "    \n",
    "    return np.linalg.norm(instance1- instance2)"
   ]
  },
  {
   "cell_type": "code",
   "execution_count": 5,
   "id": "7fa3b38b",
   "metadata": {},
   "outputs": [],
   "source": [
    "#finding the neighbors of the test data\n",
    "def get_neighbors(training_set,\n",
    "                 labels,\n",
    "                 test_instance,\n",
    "                 k,\n",
    "                distance=distance):\n",
    "    \n",
    "    distances = []\n",
    "    for index in range(len(training_set)):\n",
    "        dist = distance(test_instance,training_set[index])\n",
    "        distances.append((training_set[index],dist, labels[index]))\n",
    "    distances.sort(key=lambda x: x[1])\n",
    "    neighbors = distances[:k]\n",
    "    return(neighbors)"
   ]
  },
  {
   "cell_type": "code",
   "execution_count": 6,
   "id": "527c88bb",
   "metadata": {},
   "outputs": [],
   "source": [
    "#what is the most common type of neighbor, vote function is used for that \n",
    "def vote(neighbors):\n",
    "    class_counter = Counter()\n",
    "    for neighbor in neighbors:\n",
    "        class_counter[neighbor[2]] +=1\n",
    "        return class_counter.most_common(1)[0][0]"
   ]
  },
  {
   "cell_type": "code",
   "execution_count": 7,
   "id": "ab0571e7",
   "metadata": {},
   "outputs": [
    {
     "name": "stdout",
     "output_type": "stream",
     "text": [
      "index:  0 , result of vote 2 , label: 2 , data: [6.7 3.3 5.7 2.5]\n",
      "index:  1 , result of vote 2 , label: 2 , data: [7.2 3.  5.8 1.6]\n",
      "index:  2 , result of vote 0 , label: 0 , data: [4.9 3.6 1.4 0.1]\n",
      "index:  3 , result of vote 2 , label: 2 , data: [6.7 3.1 5.6 2.4]\n",
      "index:  4 , result of vote 0 , label: 0 , data: [4.9 3.  1.4 0.2]\n",
      "index:  5 , result of vote 1 , label: 1 , data: [6.9 3.1 4.9 1.5]\n",
      "index:  6 , result of vote 2 , label: 2 , data: [7.4 2.8 6.1 1.9]\n",
      "index:  7 , result of vote 2 , label: 2 , data: [6.3 2.9 5.6 1.8]\n",
      "index:  8 , result of vote 1 , label: 1 , data: [5.7 2.8 4.1 1.3]\n",
      "index:  9 , result of vote 2 , label: 2 , data: [6.5 3.  5.5 1.8]\n",
      "index:  10 , result of vote 1 , label: 1 , data: [6.3 2.3 4.4 1.3]\n",
      "index:  11 , result of vote 1 , label: 1 , data: [6.4 2.9 4.3 1.3]\n",
      "index:  12 , result of vote 2 , label: 2 , data: [5.6 2.8 4.9 2. ]\n",
      "index:  13 , result of vote 2 , label: 2 , data: [5.9 3.  5.1 1.8]\n",
      "index:  14 , result of vote 0 , label: 0 , data: [5.4 3.4 1.7 0.2]\n",
      "index:  15 , result of vote 1 , label: 1 , data: [6.1 2.8 4.  1.3]\n",
      "index:  16 , result of vote 1 , label: 2 , data: [4.9 2.5 4.5 1.7]\n",
      "index:  17 , result of vote 0 , label: 0 , data: [5.8 4.  1.2 0.2]\n",
      "index:  18 , result of vote 1 , label: 1 , data: [5.8 2.6 4.  1.2]\n",
      "index:  19 , result of vote 2 , label: 2 , data: [7.1 3.  5.9 2.1]\n"
     ]
    }
   ],
   "source": [
    "#analyze the data \n",
    "#p=vote go\n",
    "#l=labels went (type of flower)\n",
    "p=[]\n",
    "l=[]\n",
    "for i in range(n_training_samples):\n",
    "    neighbors = get_neighbors(trainset_data,\n",
    "                             trainset_labels,\n",
    "                             testset_data[i],\n",
    "                             3,\n",
    "                             distance=distance)\n",
    "    p.append(vote(neighbors))\n",
    "    l.append(testset_labels[i])\n",
    "    print(\"index: \", i,\n",
    "         \", result of vote\", vote(neighbors),\n",
    "          \", label:\" , testset_labels[i],\n",
    "          \", data:\", testset_data[i])"
   ]
  },
  {
   "cell_type": "code",
   "execution_count": 8,
   "id": "d14d2314",
   "metadata": {},
   "outputs": [
    {
     "data": {
      "text/plain": [
       "[2, 2, 0, 2, 0, 1, 2, 2, 1, 2, 1, 1, 2, 2, 0, 1, 1, 0, 1, 2]"
      ]
     },
     "execution_count": 8,
     "metadata": {},
     "output_type": "execute_result"
    }
   ],
   "source": [
    "#priting the output\n",
    "p"
   ]
  },
  {
   "cell_type": "code",
   "execution_count": 9,
   "id": "ddccd3e3",
   "metadata": {},
   "outputs": [
    {
     "data": {
      "text/plain": [
       "[2, 2, 0, 2, 0, 1, 2, 2, 1, 2, 1, 1, 2, 2, 0, 1, 2, 0, 1, 2]"
      ]
     },
     "execution_count": 9,
     "metadata": {},
     "output_type": "execute_result"
    }
   ],
   "source": [
    "#printing the output\n",
    "l"
   ]
  },
  {
   "cell_type": "code",
   "execution_count": 10,
   "id": "4e0b997f",
   "metadata": {},
   "outputs": [],
   "source": [
    "#function list tup=vote, label pairs q= test if they are equal\n",
    "z=list(zip(p,l))\n",
    "q=[tup[0]==tup[1] for tup in z]"
   ]
  },
  {
   "cell_type": "code",
   "execution_count": 11,
   "id": "60ec5f18",
   "metadata": {},
   "outputs": [
    {
     "data": {
      "text/plain": [
       "[(2, 2),\n",
       " (2, 2),\n",
       " (0, 0),\n",
       " (2, 2),\n",
       " (0, 0),\n",
       " (1, 1),\n",
       " (2, 2),\n",
       " (2, 2),\n",
       " (1, 1),\n",
       " (2, 2),\n",
       " (1, 1),\n",
       " (1, 1),\n",
       " (2, 2),\n",
       " (2, 2),\n",
       " (0, 0),\n",
       " (1, 1),\n",
       " (1, 2),\n",
       " (0, 0),\n",
       " (1, 1),\n",
       " (2, 2)]"
      ]
     },
     "execution_count": 11,
     "metadata": {},
     "output_type": "execute_result"
    }
   ],
   "source": [
    "#overall accuracy\n",
    "z"
   ]
  },
  {
   "cell_type": "code",
   "execution_count": 12,
   "id": "c8041b10",
   "metadata": {},
   "outputs": [
    {
     "data": {
      "text/plain": [
       "[True,\n",
       " True,\n",
       " True,\n",
       " True,\n",
       " True,\n",
       " True,\n",
       " True,\n",
       " True,\n",
       " True,\n",
       " True,\n",
       " True,\n",
       " True,\n",
       " True,\n",
       " True,\n",
       " True,\n",
       " True,\n",
       " False,\n",
       " True,\n",
       " True,\n",
       " True]"
      ]
     },
     "execution_count": 12,
     "metadata": {},
     "output_type": "execute_result"
    }
   ],
   "source": [
    "q"
   ]
  },
  {
   "cell_type": "code",
   "execution_count": 13,
   "id": "2d8b6b80",
   "metadata": {},
   "outputs": [
    {
     "data": {
      "text/plain": [
       "95.0"
      ]
     },
     "execution_count": 13,
     "metadata": {},
     "output_type": "execute_result"
    }
   ],
   "source": [
    "#overallaccuracy of the model 95%\n",
    "sum(q)/len(q)*100"
   ]
  },
  {
   "cell_type": "code",
   "execution_count": 14,
   "id": "636ec0b8",
   "metadata": {},
   "outputs": [],
   "source": [
    "#What was the accuracy of each type of iris\n",
    "#analysis for flower 0 iris 0\n",
    "z=list(zip(p,l))\n",
    "z0=[tup for tup in z if tup [1]== 0]\n",
    "q0=[tup[0]==tup[1] for tup in z0]"
   ]
  },
  {
   "cell_type": "code",
   "execution_count": 15,
   "id": "01741fd9",
   "metadata": {},
   "outputs": [
    {
     "data": {
      "text/plain": [
       "[(0, 0), (0, 0), (0, 0), (0, 0)]"
      ]
     },
     "execution_count": 15,
     "metadata": {},
     "output_type": "execute_result"
    }
   ],
   "source": [
    "z0"
   ]
  },
  {
   "cell_type": "code",
   "execution_count": 16,
   "id": "5f99c6ec",
   "metadata": {},
   "outputs": [
    {
     "data": {
      "text/plain": [
       "[True, True, True, True]"
      ]
     },
     "execution_count": 16,
     "metadata": {},
     "output_type": "execute_result"
    }
   ],
   "source": [
    "q0"
   ]
  },
  {
   "cell_type": "code",
   "execution_count": 17,
   "id": "a0bcdbde",
   "metadata": {},
   "outputs": [
    {
     "data": {
      "text/plain": [
       "100.0"
      ]
     },
     "execution_count": 17,
     "metadata": {},
     "output_type": "execute_result"
    }
   ],
   "source": [
    "#accuracy of flower 0\n",
    "sum(q0)/len(q0)*100"
   ]
  },
  {
   "cell_type": "code",
   "execution_count": 18,
   "id": "c17629c8",
   "metadata": {},
   "outputs": [],
   "source": [
    "#flower type 1 analysis for iris 1 (flower 1)\n",
    "z=list(zip(p,l))\n",
    "z1=[tup for tup in z if tup [1]== 1]\n",
    "q1=[tup[0]==tup[1] for tup in z1]"
   ]
  },
  {
   "cell_type": "code",
   "execution_count": 19,
   "id": "30ce1943",
   "metadata": {},
   "outputs": [
    {
     "data": {
      "text/plain": [
       "[(1, 1), (1, 1), (1, 1), (1, 1), (1, 1), (1, 1)]"
      ]
     },
     "execution_count": 19,
     "metadata": {},
     "output_type": "execute_result"
    }
   ],
   "source": [
    "z1"
   ]
  },
  {
   "cell_type": "code",
   "execution_count": 20,
   "id": "87b6dfa5",
   "metadata": {},
   "outputs": [
    {
     "data": {
      "text/plain": [
       "[True, True, True, True, True, True]"
      ]
     },
     "execution_count": 20,
     "metadata": {},
     "output_type": "execute_result"
    }
   ],
   "source": [
    "q1"
   ]
  },
  {
   "cell_type": "code",
   "execution_count": 21,
   "id": "f53df97e",
   "metadata": {},
   "outputs": [
    {
     "data": {
      "text/plain": [
       "100.0"
      ]
     },
     "execution_count": 21,
     "metadata": {},
     "output_type": "execute_result"
    }
   ],
   "source": [
    "#accuracy for flower 1\n",
    "sum(q1)/len(q1)*100"
   ]
  },
  {
   "cell_type": "code",
   "execution_count": 22,
   "id": "4ebab12a",
   "metadata": {},
   "outputs": [],
   "source": [
    "#flower type 2- analysis for iris 2\n",
    "z=list(zip(p,l))\n",
    "z2=[tup for tup in z if tup [1]== 2]\n",
    "q2=[tup[0]==tup[1] for tup in z2]"
   ]
  },
  {
   "cell_type": "code",
   "execution_count": 23,
   "id": "caa0109e",
   "metadata": {},
   "outputs": [
    {
     "data": {
      "text/plain": [
       "[(2, 2),\n",
       " (2, 2),\n",
       " (2, 2),\n",
       " (2, 2),\n",
       " (2, 2),\n",
       " (2, 2),\n",
       " (2, 2),\n",
       " (2, 2),\n",
       " (1, 2),\n",
       " (2, 2)]"
      ]
     },
     "execution_count": 23,
     "metadata": {},
     "output_type": "execute_result"
    }
   ],
   "source": [
    "z2"
   ]
  },
  {
   "cell_type": "code",
   "execution_count": 24,
   "id": "30064017",
   "metadata": {},
   "outputs": [
    {
     "data": {
      "text/plain": [
       "[True, True, True, True, True, True, True, True, False, True]"
      ]
     },
     "execution_count": 24,
     "metadata": {},
     "output_type": "execute_result"
    }
   ],
   "source": [
    "q2"
   ]
  },
  {
   "cell_type": "code",
   "execution_count": 25,
   "id": "e00af381",
   "metadata": {},
   "outputs": [
    {
     "data": {
      "text/plain": [
       "90.0"
      ]
     },
     "execution_count": 25,
     "metadata": {},
     "output_type": "execute_result"
    }
   ],
   "source": [
    "#accuracy for flower 2\n",
    "sum(q2)/len(q2)*100"
   ]
  }
 ],
 "metadata": {
  "kernelspec": {
   "display_name": "Python 3",
   "language": "python",
   "name": "python3"
  },
  "language_info": {
   "codemirror_mode": {
    "name": "ipython",
    "version": 3
   },
   "file_extension": ".py",
   "mimetype": "text/x-python",
   "name": "python",
   "nbconvert_exporter": "python",
   "pygments_lexer": "ipython3",
   "version": "3.8.8"
  }
 },
 "nbformat": 4,
 "nbformat_minor": 5
}
